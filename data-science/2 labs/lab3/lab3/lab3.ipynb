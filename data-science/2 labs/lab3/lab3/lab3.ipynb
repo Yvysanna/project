{
 "cells": [
  {
   "cell_type": "markdown",
   "metadata": {
    "deletable": false,
    "editable": false,
    "nbgrader": {
     "cell_type": "markdown",
     "checksum": "ac44d06f60af6fdcba1724e29b918148",
     "grade": false,
     "grade_id": "cell-e156d3a02cc85105",
     "locked": true,
     "schema_version": 3,
     "solution": false,
     "task": false
    }
   },
   "source": [
    "# Lab 3: Pandas\n",
    "\n",
    "In this series of exercises you will learn to use the library `pandas`. Pandas is a very popular library for storing and manipualting data. For the exercises in this notebook, we will be relying on the following sources:\n",
    "- Chapter 3 from the [Python Data Science Handbook](https://jakevdp.github.io/PythonDataScienceHandbook/)\n",
    "- The official Pandas documentation: [Pandas Documentation](https://pandas.pydata.org/)"
   ]
  },
  {
   "cell_type": "markdown",
   "metadata": {
    "deletable": false,
    "editable": false,
    "nbgrader": {
     "cell_type": "markdown",
     "checksum": "b74089855c289f0e4d9f4a0dcf0586cf",
     "grade": false,
     "grade_id": "cell-e293e349bf745fb4",
     "locked": true,
     "schema_version": 3,
     "solution": false,
     "task": false
    }
   },
   "source": [
    "## Series \n",
    "\n",
    "Start by reading the introduction of `pandas` objects [here](https://jakevdp.github.io/PythonDataScienceHandbook/03.01-introducing-pandas-objects.html).\n",
    "\n",
    "Then, run the cell below to import the necessary libraries. In our distribution, we've also included a file named `answers3.py`, which we will also import below. After each set of exercises, a function from `answers3.py` is called that will check your answers and provide feedback in the form of assertions."
   ]
  },
  {
   "cell_type": "code",
   "execution_count": null,
   "metadata": {
    "deletable": false,
    "editable": false,
    "nbgrader": {
     "cell_type": "code",
     "checksum": "1c37e6b8f5571bc5bc034d7c3eb0f54e",
     "grade": false,
     "grade_id": "cell-1673500799a83b53",
     "locked": true,
     "schema_version": 3,
     "solution": false,
     "task": false
    }
   },
   "outputs": [],
   "source": [
    "import pandas as pd\n",
    "import numpy as np\n",
    "import answers3"
   ]
  },
  {
   "cell_type": "markdown",
   "metadata": {
    "deletable": false,
    "editable": false,
    "nbgrader": {
     "cell_type": "markdown",
     "checksum": "85f9dfab5b2cbc3f1fba83aba689ef4a",
     "grade": false,
     "grade_id": "cell-balabla",
     "locked": true,
     "schema_version": 3,
     "solution": false,
     "task": false
    }
   },
   "source": [
    "### Exercise 1\n",
    "\n",
    "Create a `Series`-object named `income` containing the following *figures* and using the *sources* as its index."
   ]
  },
  {
   "cell_type": "code",
   "execution_count": null,
   "metadata": {
    "deletable": false,
    "nbgrader": {
     "cell_type": "code",
     "checksum": "496a195c59aec538f41dfe0230eaec11",
     "grade": false,
     "grade_id": "cell-08d1e678831a6cb7",
     "locked": false,
     "schema_version": 3,
     "solution": true,
     "task": false
    }
   },
   "outputs": [],
   "source": [
    "income_sources = [\"sales\", \"ads\", \"subscriptions\", \"donations\"]\n",
    "income_figures = [39041, 8702, 13200, 292]\n",
    "\n",
    "income = # Your code here"
   ]
  },
  {
   "cell_type": "markdown",
   "metadata": {
    "deletable": false,
    "editable": false,
    "nbgrader": {
     "cell_type": "markdown",
     "checksum": "156804e3fc56d5978d8887348a834eae",
     "grade": false,
     "grade_id": "cell-e27dca2ead4106cd",
     "locked": true,
     "schema_version": 3,
     "solution": false,
     "task": false
    }
   },
   "source": [
    "Check your answer by running the cell below."
   ]
  },
  {
   "cell_type": "code",
   "execution_count": null,
   "metadata": {
    "deletable": false,
    "editable": false,
    "nbgrader": {
     "cell_type": "code",
     "checksum": "311155226306803ed1d78dd4a268741d",
     "grade": true,
     "grade_id": "cell-f63a1720e0929f28",
     "locked": true,
     "points": 0,
     "schema_version": 3,
     "solution": false,
     "task": false
    }
   },
   "outputs": [],
   "source": [
    "answers3.test_1(income)"
   ]
  },
  {
   "cell_type": "markdown",
   "metadata": {
    "deletable": false,
    "editable": false,
    "nbgrader": {
     "cell_type": "markdown",
     "checksum": "8f388f55859097a74839a4f97732e6e4",
     "grade": false,
     "grade_id": "cell-e155697815e0e693",
     "locked": true,
     "schema_version": 3,
     "solution": false,
     "task": false
    }
   },
   "source": [
    "### Exercise 2\n",
    "\n",
    "Create a `Series` named `expenses` that uses the expense information below. Also create a `Series` named `profits` with the profit (income minus expenses). Create a variable named `total_profit` with the sum of all profits in `profits`."
   ]
  },
  {
   "cell_type": "code",
   "execution_count": null,
   "metadata": {
    "deletable": false,
    "nbgrader": {
     "cell_type": "code",
     "checksum": "4a941f71e5f06af442d8b2c99b082d78",
     "grade": false,
     "grade_id": "cell-0df7100d19df7b7f",
     "locked": false,
     "schema_version": 3,
     "solution": true,
     "task": false
    }
   },
   "outputs": [],
   "source": [
    "expense_sources = [\"ads\", \"sales\", \"donations\", \"subscriptions\"]\n",
    "expense_figures = [4713, 24282, 0, 3302]\n",
    "\n",
    "# Your code here"
   ]
  },
  {
   "cell_type": "markdown",
   "metadata": {
    "deletable": false,
    "editable": false,
    "nbgrader": {
     "cell_type": "markdown",
     "checksum": "221790164142a43aa561e50cf9002b95",
     "grade": false,
     "grade_id": "cell-1de0b0a2a7c76250",
     "locked": true,
     "schema_version": 3,
     "solution": false,
     "task": false
    }
   },
   "source": [
    "Check your answer by running the cell below."
   ]
  },
  {
   "cell_type": "code",
   "execution_count": null,
   "metadata": {
    "deletable": false,
    "editable": false,
    "nbgrader": {
     "cell_type": "code",
     "checksum": "ff9fa013bf2a3480475fe1d04dc699ce",
     "grade": true,
     "grade_id": "cell-655e507dda0095be",
     "locked": true,
     "points": 0,
     "schema_version": 3,
     "solution": false,
     "task": false
    }
   },
   "outputs": [],
   "source": [
    "answers3.test_2(expenses, profits, total_profit)"
   ]
  },
  {
   "cell_type": "markdown",
   "metadata": {},
   "source": [
    "## DataFrames"
   ]
  },
  {
   "cell_type": "markdown",
   "metadata": {
    "deletable": false,
    "editable": false,
    "nbgrader": {
     "cell_type": "markdown",
     "checksum": "3da312911734b0672146790dc4b2d1e9",
     "grade": false,
     "grade_id": "cell-db980f180e853f8a",
     "locked": true,
     "schema_version": 3,
     "solution": false,
     "task": false
    }
   },
   "source": [
    "### Exercise 3\n",
    "\n",
    "Create a `DataFrame` named `skittles` with the *columns* `amount` and `rating`, using the different colors as the *index*.\n",
    "\n",
    "|&nbsp;      | amount | rating |\n",
    "|------------|--------|--------|\n",
    "| **red**    | 7      | 3      |\n",
    "| **green**  | 4      | 4      |\n",
    "| **blue**   | 6      | 2      |\n",
    "| **purple** | 5      | 4      |\n",
    "| **pink**   | 6      | 3.5    |\n",
    "\n",
    "Using `Jupyter`'s `display()` makes sure we get a nicely formatted table."
   ]
  },
  {
   "cell_type": "code",
   "execution_count": null,
   "metadata": {
    "deletable": false,
    "nbgrader": {
     "cell_type": "code",
     "checksum": "804191c8bbfe049917ea1f4782887a1e",
     "grade": false,
     "grade_id": "cell-9c6637d8f47dcc08",
     "locked": false,
     "schema_version": 3,
     "solution": true,
     "task": false
    }
   },
   "outputs": [],
   "source": [
    "# Your code here"
   ]
  },
  {
   "cell_type": "markdown",
   "metadata": {
    "deletable": false,
    "editable": false,
    "nbgrader": {
     "cell_type": "markdown",
     "checksum": "5506990c2cc70bf2833c3882e2eb3cb1",
     "grade": false,
     "grade_id": "cell-q2ddc345e46",
     "locked": true,
     "schema_version": 3,
     "solution": false,
     "task": false
    }
   },
   "source": [
    "Check your answer by running the cell below."
   ]
  },
  {
   "cell_type": "code",
   "execution_count": null,
   "metadata": {
    "deletable": false,
    "editable": false,
    "nbgrader": {
     "cell_type": "code",
     "checksum": "3d345fecb371a034f33098143510885a",
     "grade": true,
     "grade_id": "cell-1c954e8d9484f4be",
     "locked": true,
     "points": 1,
     "schema_version": 3,
     "solution": false,
     "task": false
    }
   },
   "outputs": [],
   "source": [
    "answers3.test_3(skittles)"
   ]
  },
  {
   "cell_type": "markdown",
   "metadata": {
    "deletable": false,
    "editable": false,
    "nbgrader": {
     "cell_type": "markdown",
     "checksum": "de7fb79626b551b4600b1c5d3fbb2a9f",
     "grade": false,
     "grade_id": "cell-d16475de8a3e3014",
     "locked": true,
     "schema_version": 3,
     "solution": false,
     "task": false
    }
   },
   "source": [
    "### Exercise 4\n",
    "\n",
    "Calculate the mean `rating` and save as `skittles_average`."
   ]
  },
  {
   "cell_type": "code",
   "execution_count": null,
   "metadata": {
    "deletable": false,
    "nbgrader": {
     "cell_type": "code",
     "checksum": "6fcb31817d373c316dc9a297c7a089bf",
     "grade": false,
     "grade_id": "cell-3cd5760702610631",
     "locked": false,
     "schema_version": 3,
     "solution": true,
     "task": false
    }
   },
   "outputs": [],
   "source": [
    "# Your code here"
   ]
  },
  {
   "cell_type": "markdown",
   "metadata": {
    "deletable": false,
    "editable": false,
    "nbgrader": {
     "cell_type": "markdown",
     "checksum": "d754111e831fb3a7081c5530b399a197",
     "grade": false,
     "grade_id": "cell-q2ddcesdf46",
     "locked": true,
     "schema_version": 3,
     "solution": false,
     "task": false
    }
   },
   "source": [
    "Check your answer by running the cell below."
   ]
  },
  {
   "cell_type": "code",
   "execution_count": null,
   "metadata": {
    "deletable": false,
    "editable": false,
    "nbgrader": {
     "cell_type": "code",
     "checksum": "5c4cf668dacd4c91096fb6522b29abeb",
     "grade": true,
     "grade_id": "cell-4a63780e28d4318f",
     "locked": true,
     "points": 1,
     "schema_version": 3,
     "solution": false,
     "task": false
    }
   },
   "outputs": [],
   "source": [
    "answers3.test_4(skittles_average)"
   ]
  },
  {
   "cell_type": "markdown",
   "metadata": {
    "deletable": false,
    "editable": false,
    "nbgrader": {
     "cell_type": "markdown",
     "checksum": "855783c92f94e7e22414f6269a4d6f9f",
     "grade": false,
     "grade_id": "cell-39f6de36e08a7146",
     "locked": true,
     "schema_version": 3,
     "solution": false,
     "task": false
    }
   },
   "source": [
    "### Exercise 5\n",
    "\n",
    "Add a new column to the skittles `DataFrame` named `score`. The score of a color is equal to `amount * rating`."
   ]
  },
  {
   "cell_type": "code",
   "execution_count": null,
   "metadata": {
    "deletable": false,
    "nbgrader": {
     "cell_type": "code",
     "checksum": "d1766fd2403b0274b9af456003f45943",
     "grade": false,
     "grade_id": "cell-44c741b6c7562337",
     "locked": false,
     "schema_version": 3,
     "solution": true,
     "task": false
    }
   },
   "outputs": [],
   "source": [
    "# Your code here"
   ]
  },
  {
   "cell_type": "markdown",
   "metadata": {
    "deletable": false,
    "editable": false,
    "nbgrader": {
     "cell_type": "markdown",
     "checksum": "7040cfcb4dc1cd7f6e749399c6881e54",
     "grade": false,
     "grade_id": "cell-q2ddsdce46",
     "locked": true,
     "schema_version": 3,
     "solution": false,
     "task": false
    }
   },
   "source": [
    "Check your answer by running the cell below."
   ]
  },
  {
   "cell_type": "code",
   "execution_count": null,
   "metadata": {
    "deletable": false,
    "editable": false,
    "nbgrader": {
     "cell_type": "code",
     "checksum": "0bab19228f456ad1d13360dbac032fb6",
     "grade": true,
     "grade_id": "cell-8d4b31a62e056a4c",
     "locked": true,
     "points": 1,
     "schema_version": 3,
     "solution": false,
     "task": false
    }
   },
   "outputs": [],
   "source": [
    "assert \"score\" in skittles"
   ]
  },
  {
   "cell_type": "markdown",
   "metadata": {},
   "source": [
    "## Indexing and selection\n",
    "\n",
    "Read the [next](https://jakevdp.github.io/PythonDataScienceHandbook/03.02-data-indexing-and-selection.html) part of the reference."
   ]
  },
  {
   "cell_type": "markdown",
   "metadata": {
    "deletable": false,
    "editable": false,
    "nbgrader": {
     "cell_type": "markdown",
     "checksum": "fbb2919fca7c2d906f565bd062c623ca",
     "grade": false,
     "grade_id": "cell-cc6978bc2a03800b",
     "locked": true,
     "schema_version": 3,
     "solution": false,
     "task": false
    }
   },
   "source": [
    "\n",
    "### Exercise 6\n",
    "\n",
    "For the given `DataFrame` select only columns 'a', 'c', and 'e', and rows 10, 20, 50, 60 and store the result again in the variable `frame`. As a clarification, the original `DataFrame` looks like:\n",
    "\n",
    "<table border=\"1\" class=\"dataframe\">  <thead>    <tr style=\"text-align: right;\">      <th></th>      <th>a</th>      <th>b</th>      <th>c</th>      <th>d</th>      <th>e</th>      <th>f</th>      <th>g</th>    </tr>  </thead>  <tbody>    <tr>      <th>10</th>      <td>0.0</td>      <td>1.0</td>      <td>2.0</td>      <td>3.0</td>      <td>4.0</td>      <td>5.0</td>      <td>6.0</td>    </tr>    <tr>      <th>20</th>      <td>7.0</td>      <td>8.0</td>      <td>9.0</td>      <td>10.0</td>      <td>11.0</td>      <td>12.0</td>      <td>13.0</td>    </tr>    <tr>      <th>30</th>      <td>14.0</td>      <td>15.0</td>      <td>16.0</td>      <td>17.0</td>      <td>18.0</td>      <td>19.0</td>      <td>20.0</td>    </tr>    <tr>      <th>40</th>      <td>21.0</td>      <td>22.0</td>      <td>23.0</td>      <td>24.0</td>      <td>25.0</td>      <td>26.0</td>      <td>27.0</td>    </tr>    <tr>      <th>50</th>      <td>28.0</td>      <td>29.0</td>      <td>30.0</td>      <td>31.0</td>      <td>32.0</td>      <td>33.0</td>      <td>34.0</td>    </tr>    <tr>      <th>60</th>      <td>35.0</td>      <td>36.0</td>      <td>37.0</td>      <td>38.0</td>      <td>39.0</td>      <td>40.0</td>      <td>41.0</td>    </tr>  </tbody></table>\n",
    "\n",
    "Re-index such that it looks like:\n",
    "\n",
    "<table border=\"1\" class=\"dataframe\">  <thead>    <tr style=\"text-align: right;\">      <th></th>      <th>a</th>      <th>c</th>      <th>e</th>    </tr>  </thead>  <tbody>    <tr>      <th>10</th>      <td>0.0</td>      <td>2.0</td>      <td>4.0</td>    </tr>    <tr>      <th>20</th>      <td>7.0</td>      <td>9.0</td>      <td>11.0</td>    </tr>    <tr>      <th>50</th>      <td>28.0</td>      <td>30.0</td>      <td>32.0</td>    </tr>    <tr>      <th>60</th>      <td>35.0</td>      <td>37.0</td>      <td>39.0</td>    </tr>  </tbody></table>\n"
   ]
  },
  {
   "cell_type": "code",
   "execution_count": null,
   "metadata": {
    "deletable": false,
    "nbgrader": {
     "cell_type": "code",
     "checksum": "010241fc722bcaba8d1ec04e22113dad",
     "grade": false,
     "grade_id": "cell-a7305488e1ae7000",
     "locked": false,
     "schema_version": 3,
     "solution": true,
     "task": false
    }
   },
   "outputs": [],
   "source": [
    "frame = pd.DataFrame(np.arange(6 * 7.).reshape((6, 7)), index=[10, 20, 30, 40, 50, 60], columns=list('abcdefg'))\n",
    "\n",
    "# Your code here"
   ]
  },
  {
   "cell_type": "markdown",
   "metadata": {
    "deletable": false,
    "editable": false,
    "nbgrader": {
     "cell_type": "markdown",
     "checksum": "97ac8fb09dd26fa13ec4de2be9ae4465",
     "grade": false,
     "grade_id": "cell-q2ddwwwce46",
     "locked": true,
     "schema_version": 3,
     "solution": false,
     "task": false
    }
   },
   "source": [
    "Check your answer by running the cell below."
   ]
  },
  {
   "cell_type": "code",
   "execution_count": null,
   "metadata": {
    "deletable": false,
    "editable": false,
    "nbgrader": {
     "cell_type": "code",
     "checksum": "9981bf1e606baf63eb9f8b62e61bd1ed",
     "grade": true,
     "grade_id": "cell-6cf72e8c3526a88a",
     "locked": true,
     "points": 1,
     "schema_version": 3,
     "solution": false,
     "task": false
    }
   },
   "outputs": [],
   "source": [
    "answers3.test_6(frame2)"
   ]
  },
  {
   "cell_type": "markdown",
   "metadata": {
    "deletable": false,
    "editable": false,
    "nbgrader": {
     "cell_type": "markdown",
     "checksum": "fe4c7f266680eb0d919e7530ca40446b",
     "grade": false,
     "grade_id": "cell-1ff423e018fe6b17",
     "locked": true,
     "schema_version": 3,
     "solution": false,
     "task": false
    }
   },
   "source": [
    "### Exercise 7\n",
    "\n",
    "Replace all values in the data frame `frame` that are *divisible by 3* with the value *0*. Store the result in `frame`."
   ]
  },
  {
   "cell_type": "code",
   "execution_count": null,
   "metadata": {
    "deletable": false,
    "nbgrader": {
     "cell_type": "code",
     "checksum": "9070ea7362b7e1f0ba517595d44eb2b3",
     "grade": false,
     "grade_id": "cell-a0d227a359b7a2d8",
     "locked": false,
     "schema_version": 3,
     "solution": true,
     "task": false
    }
   },
   "outputs": [],
   "source": [
    "# Your code here "
   ]
  },
  {
   "cell_type": "markdown",
   "metadata": {
    "deletable": false,
    "editable": false,
    "nbgrader": {
     "cell_type": "markdown",
     "checksum": "4e408a0e0448bcc6f56e5464c3216e96",
     "grade": false,
     "grade_id": "cell-q2dd333ce46",
     "locked": true,
     "schema_version": 3,
     "solution": false,
     "task": false
    }
   },
   "source": [
    "Check your answer by running the cell below."
   ]
  },
  {
   "cell_type": "code",
   "execution_count": null,
   "metadata": {
    "deletable": false,
    "editable": false,
    "nbgrader": {
     "cell_type": "code",
     "checksum": "9326b8662f45148cfdc173a0c9faba44",
     "grade": true,
     "grade_id": "cell-d3178809b040bf79",
     "locked": true,
     "points": 1,
     "schema_version": 3,
     "solution": false,
     "task": false
    }
   },
   "outputs": [],
   "source": [
    "answers3.test_7(frame)"
   ]
  },
  {
   "cell_type": "markdown",
   "metadata": {},
   "source": [
    "## Operating on dataframes\n",
    "\n",
    "Read about [operations in pandas](https://jakevdp.github.io/PythonDataScienceHandbook/03.03-operations-in-pandas.html)."
   ]
  },
  {
   "cell_type": "markdown",
   "metadata": {
    "deletable": false,
    "editable": false,
    "nbgrader": {
     "cell_type": "markdown",
     "checksum": "c2ea8c654fcc5cb73c7d5e7b3637baf4",
     "grade": false,
     "grade_id": "cell-b0cc2afba8d064b6",
     "locked": true,
     "schema_version": 3,
     "solution": false,
     "task": false
    }
   },
   "source": [
    "\n",
    "### Exercise 8\n",
    "\n",
    "Create a `Series` named `series_c` with the result of the calculation `series_a - series_b`. Note that `series_a` and `series_b` do not use the same indexing. Replace any missing values in `series_b` with 0. Values that are in `series_b` but not in `series_a` need not be in `series_c`."
   ]
  },
  {
   "cell_type": "code",
   "execution_count": null,
   "metadata": {
    "deletable": false,
    "nbgrader": {
     "cell_type": "code",
     "checksum": "0c6bbb8af806c2951e2cfcd6a0e470ad",
     "grade": false,
     "grade_id": "cell-65a850d571a08e13",
     "locked": false,
     "schema_version": 3,
     "solution": true,
     "task": false
    }
   },
   "outputs": [],
   "source": [
    "series_a = pd.Series([500, 400, 300, 200, 100], index=[\"a\", \"b\", \"c \", \"d\", \"e\"])\n",
    "series_b = pd.Series([23, 46, 67, 79], index=[\"a\", \"c \", \"f\", \"g\"])\n",
    "\n",
    "# Your code here"
   ]
  },
  {
   "cell_type": "markdown",
   "metadata": {
    "deletable": false,
    "editable": false,
    "nbgrader": {
     "cell_type": "markdown",
     "checksum": "6d20be6d0c0167a0e09f7550c421e971",
     "grade": false,
     "grade_id": "cell-fdspppp123",
     "locked": true,
     "schema_version": 3,
     "solution": false,
     "task": false
    }
   },
   "source": [
    "Check your answer by running the cell below."
   ]
  },
  {
   "cell_type": "code",
   "execution_count": null,
   "metadata": {
    "deletable": false,
    "editable": false,
    "nbgrader": {
     "cell_type": "code",
     "checksum": "7699a05e23ff7a731ab8af576e39584c",
     "grade": true,
     "grade_id": "cell-f2e1aaa735d7b5ee",
     "locked": true,
     "points": 0,
     "schema_version": 3,
     "solution": false,
     "task": false
    }
   },
   "outputs": [],
   "source": [
    "answers3.test_8(series_a, series_b, series_c)"
   ]
  },
  {
   "cell_type": "markdown",
   "metadata": {
    "deletable": false,
    "editable": false,
    "nbgrader": {
     "cell_type": "markdown",
     "checksum": "5f20687c0664a74987166754be71f6bc",
     "grade": false,
     "grade_id": "cell-92d82e2a5554465d",
     "locked": true,
     "schema_version": 3,
     "solution": false,
     "task": false
    }
   },
   "source": [
    "## Map\n",
    "\n",
    "`pandas` has it's own `map()` function! As expected, it maps a function to every element of a `Series` or `DataFrame` and gives back a new `Series` or `DataFrame`. As an example:\n",
    "\n",
    "```Py\n",
    "tokens = Series([\"hello\", \" \", \"world!\"])\n",
    "\n",
    "lengths = []\n",
    "for token in tokens:\n",
    "    lengths.append(len(token))\n",
    "lenghts = Series(lengths)\n",
    "```\n",
    "\n",
    "Can be converted to:\n",
    "\n",
    "```Py\n",
    "tokens = Series([\"hello\", \" \", \"world!\"])\n",
    "lengths = tokens.map(len)\n",
    "```"
   ]
  },
  {
   "cell_type": "markdown",
   "metadata": {},
   "source": [
    "### Exercise 9\n",
    "\n",
    "Convert all words in the `Series` `words` to lowercase. Use `str.lower()`."
   ]
  },
  {
   "cell_type": "code",
   "execution_count": null,
   "metadata": {
    "deletable": false,
    "nbgrader": {
     "cell_type": "code",
     "checksum": "fc760b222fadb943914ed77f34fc6421",
     "grade": false,
     "grade_id": "cell-2b1c1839014b7bb7",
     "locked": false,
     "schema_version": 3,
     "solution": true,
     "task": false
    }
   },
   "outputs": [],
   "source": [
    "words = pd.Series([\"foo\", \"Bar\", \"baz\", \"QUX\", \"QuUuX\"])\n",
    "\n",
    "# Your code here"
   ]
  },
  {
   "cell_type": "markdown",
   "metadata": {
    "deletable": false,
    "editable": false,
    "nbgrader": {
     "cell_type": "markdown",
     "checksum": "76af73100c55f55286c6c900438e4f97",
     "grade": false,
     "grade_id": "cell-q2ddce90j46",
     "locked": true,
     "schema_version": 3,
     "solution": false,
     "task": false
    }
   },
   "source": [
    "Check your answer by running the cell below."
   ]
  },
  {
   "cell_type": "code",
   "execution_count": null,
   "metadata": {
    "deletable": false,
    "editable": false,
    "nbgrader": {
     "cell_type": "code",
     "checksum": "88dbd673b9a7079e2ec8fe74e54f077e",
     "grade": true,
     "grade_id": "cell-0146d3cab03d2489",
     "locked": true,
     "points": 0,
     "schema_version": 3,
     "solution": false,
     "task": false
    }
   },
   "outputs": [],
   "source": [
    "answers3.test_9(words)"
   ]
  },
  {
   "cell_type": "markdown",
   "metadata": {
    "deletable": false,
    "editable": false,
    "nbgrader": {
     "cell_type": "markdown",
     "checksum": "734bd184677d75e844cb2d76a0312ca8",
     "grade": false,
     "grade_id": "cell-d814292f9717a193",
     "locked": true,
     "schema_version": 3,
     "solution": false,
     "task": false
    }
   },
   "source": [
    "### Exercise 10\n",
    "\n",
    "Sort `frame` on column `c` in descending order and store the solution in `frame`."
   ]
  },
  {
   "cell_type": "code",
   "execution_count": null,
   "metadata": {
    "deletable": false,
    "nbgrader": {
     "cell_type": "code",
     "checksum": "f21832842f3598eb12e37e23aa268428",
     "grade": false,
     "grade_id": "cell-aeaf0687179d5b33",
     "locked": false,
     "schema_version": 3,
     "solution": true,
     "task": false
    }
   },
   "outputs": [],
   "source": [
    "data = [[0.691074, -1.272521, -0.968045, -2.066171, -0.670358, 1.399483, -1.148168], \n",
    "        [1.75378, 2.409629, 1.842674, 0.754906, -0.115614, 0.877219, 1.599362], \n",
    "        [-1.41176, 1.103801, 1.216514, 0.548866, 2.255482, -0.176342, 0.965265], \n",
    "        [-0.741689, 0.216645, -0.278025, 0.777175, 0.869239, -0.943004, -0.140957], \n",
    "        [-1.58593, 1.1796, -0.702286, 2.367875, 0.592748, 1.386158, 0.535978], \n",
    "        [0.58498, 0.62389, -0.425614, 0.530479, -1.818631, -1.593188, 1.591233]]\n",
    "\n",
    "frame = pd.DataFrame(data, columns=list('abcdefg'))\n",
    "\n",
    "# Your code here"
   ]
  },
  {
   "cell_type": "markdown",
   "metadata": {
    "deletable": false,
    "editable": false,
    "nbgrader": {
     "cell_type": "markdown",
     "checksum": "1ee5432075ec30fc1ae053d3ed7571af",
     "grade": false,
     "grade_id": "cell-q2ddce46",
     "locked": true,
     "schema_version": 3,
     "solution": false,
     "task": false
    }
   },
   "source": [
    "Check your answer by running the cell below."
   ]
  },
  {
   "cell_type": "code",
   "execution_count": null,
   "metadata": {
    "deletable": false,
    "editable": false,
    "nbgrader": {
     "cell_type": "code",
     "checksum": "e51e6b24ab06b3cd97b55ae4f02cc828",
     "grade": true,
     "grade_id": "cell-8f432c8accccdef3",
     "locked": true,
     "points": 0,
     "schema_version": 3,
     "solution": false,
     "task": false
    }
   },
   "outputs": [],
   "source": [
    "answers3.test_10(frame)"
   ]
  },
  {
   "cell_type": "markdown",
   "metadata": {},
   "source": [
    "## Missing values\n",
    "\n",
    "Read about [Handling Missing Data](https://jakevdp.github.io/PythonDataScienceHandbook/03.04-missing-values.html)"
   ]
  },
  {
   "cell_type": "markdown",
   "metadata": {
    "deletable": false,
    "editable": false,
    "nbgrader": {
     "cell_type": "markdown",
     "checksum": "d7a52b9935d7dfe0a472e04abbf673cf",
     "grade": false,
     "grade_id": "cell-6b49bad5c5897d93",
     "locked": true,
     "schema_version": 3,
     "solution": false,
     "task": false
    }
   },
   "source": [
    "### Exercise 11\n",
    "\n",
    "In the `Series` `speeds` below, fill in the missing values. Use the speed from the previous datapoint available that is up to 3 datapoints away. Delete any datapoints that still do not have values afterwards."
   ]
  },
  {
   "cell_type": "code",
   "execution_count": null,
   "metadata": {
    "deletable": false,
    "nbgrader": {
     "cell_type": "code",
     "checksum": "de23a2446d30509b50138605942f7678",
     "grade": false,
     "grade_id": "cell-b3792dcee9520460",
     "locked": false,
     "schema_version": 3,
     "solution": true,
     "task": false
    }
   },
   "outputs": [],
   "source": [
    "speeds = pd.Series(\n",
    "         [49, 51, None, None, 50, 48, 47, 50,\n",
    "          51, 47, 46, None, 46, 48, 48, 48,\n",
    "          None, 49, None, None, None, None,\n",
    "          None, 50, 50, 50, 51, 52, 51, 50,\n",
    "          None, 50, None, None, None, None,\n",
    "          None, 50, 49, 48, 49, None, 50, 50, 49])\n",
    "\n",
    "# Your code here"
   ]
  },
  {
   "cell_type": "markdown",
   "metadata": {
    "deletable": false,
    "editable": false,
    "nbgrader": {
     "cell_type": "markdown",
     "checksum": "393234321e149728371f30415e43a50a",
     "grade": false,
     "grade_id": "cell-fsdffdsaa",
     "locked": true,
     "schema_version": 3,
     "solution": false,
     "task": false
    }
   },
   "source": [
    "Check your answer by running the cell below."
   ]
  },
  {
   "cell_type": "code",
   "execution_count": null,
   "metadata": {
    "deletable": false,
    "editable": false,
    "nbgrader": {
     "cell_type": "code",
     "checksum": "911334c741e72f206844640b4b82396d",
     "grade": true,
     "grade_id": "cell-bb118106c1321864",
     "locked": true,
     "points": 0,
     "schema_version": 3,
     "solution": false,
     "task": false
    }
   },
   "outputs": [],
   "source": [
    "answers3.test_11(speeds)"
   ]
  },
  {
   "cell_type": "markdown",
   "metadata": {
    "deletable": false,
    "editable": false,
    "nbgrader": {
     "cell_type": "markdown",
     "checksum": "a8141eb2070b3094620a40eadbb9e851",
     "grade": false,
     "grade_id": "cell-cb4ec429ecec6181",
     "locked": true,
     "schema_version": 3,
     "solution": false,
     "task": false
    }
   },
   "source": [
    "# Grouping\n",
    "\n",
    "Read about [grouping data](https://jakevdp.github.io/PythonDataScienceHandbook/03.08-aggregation-and-grouping.html).\n",
    "\n",
    "### Exercise 12\n",
    "\n",
    "Given the `grades` DataFrame below, group the data the course name. Do the following:\n",
    "\n",
    "- Create a grouping called `groups`.\n",
    "- Use a `for` loop to loop over the content of `groups`. Print the name and content of each group.\n",
    "- Generate a `Series` called `average_course_grade` containing the average grade for both courses.\n",
    "- Generate a `Series` called `student_count` containing the total number of students for both courses."
   ]
  },
  {
   "cell_type": "code",
   "execution_count": null,
   "metadata": {
    "deletable": false,
    "nbgrader": {
     "cell_type": "code",
     "checksum": "59eb6b58928b6c0492f2aaa23c582036",
     "grade": false,
     "grade_id": "cell-1f1399d0184cd068",
     "locked": false,
     "schema_version": 3,
     "solution": true,
     "task": false
    }
   },
   "outputs": [],
   "source": [
    "grades = pd.DataFrame([[\"Pascal\", \"Programming 2\", 7.0], [\"Morty\", \"Programming 1\", 5.5], \n",
    "                       [\"Slartibartfast\", \"Programming 1\", 6.5], [\"Ursula\", \"Programming 1\", 9.5],\n",
    "                       [\"Morty\", \"Programming 2\", 3.5], [\"Marge\", \"Programming 1\", 8.0],\n",
    "                       [\"Ursula\", \"Programming 2\", 9.0]], \n",
    "                       columns = [\"student_name\", \"course_name\", \"grade\"])\n",
    "\n",
    "# Your code here"
   ]
  },
  {
   "cell_type": "markdown",
   "metadata": {
    "deletable": false,
    "editable": false,
    "nbgrader": {
     "cell_type": "markdown",
     "checksum": "32b1961877a9742c4626684bd2603b80",
     "grade": false,
     "grade_id": "cell-a4ba222a8e8e1017",
     "locked": true,
     "schema_version": 3,
     "solution": false,
     "task": false
    }
   },
   "source": [
    "Check your answer by running the cell below."
   ]
  },
  {
   "cell_type": "code",
   "execution_count": null,
   "metadata": {
    "deletable": false,
    "editable": false,
    "nbgrader": {
     "cell_type": "code",
     "checksum": "9ec4535c4bc0ab49abb28b66f4c6513b",
     "grade": true,
     "grade_id": "cell-0c025948f6b918d6",
     "locked": true,
     "points": 0,
     "schema_version": 3,
     "solution": false,
     "task": false
    }
   },
   "outputs": [],
   "source": [
    "answers3.test_12(average_course_grade, student_count)"
   ]
  },
  {
   "cell_type": "markdown",
   "metadata": {
    "deletable": false,
    "editable": false,
    "nbgrader": {
     "cell_type": "markdown",
     "checksum": "ab2dee469bbd372cd94c6e269819420e",
     "grade": false,
     "grade_id": "cell-836720243361471e",
     "locked": true,
     "schema_version": 3,
     "solution": false,
     "task": false
    }
   },
   "source": [
    "You kan also use the `head(n)` method as an agregate function similar to `count()` or `mean()`. It will yield the first `n` entries for each group. Read more about [groupby + head](https://pandas.pydata.org/pandas-docs/stable/reference/api/pandas.core.groupby.GroupBy.head.html).\n",
    "\n",
    "### Exercise 13\n",
    "\n",
    "Use `groupby` and `head` to select the **top two students** of each course of the `grades` DataFrame from above. Store the result in `top_students`.\n",
    "\n",
    "The result should look like this: \n",
    "\n",
    "      student_name    course_name  grade\n",
    "    3       Ursula  Programming 1    9.5\n",
    "    6       Ursula  Programming 2    9.0\n",
    "    5        Marge  Programming 1    8.0\n",
    "    1        Morty  Programming 2    5.5\n",
    "\n",
    "> Tip: you might have to sort the values of the `grades` DataFrame first."
   ]
  },
  {
   "cell_type": "code",
   "execution_count": null,
   "metadata": {
    "deletable": false,
    "nbgrader": {
     "cell_type": "code",
     "checksum": "86723059f85a096d9284efb5da5d386a",
     "grade": false,
     "grade_id": "cell-59553ba3058941ed",
     "locked": false,
     "schema_version": 3,
     "solution": true,
     "task": false
    }
   },
   "outputs": [],
   "source": [
    "# Your code here"
   ]
  },
  {
   "cell_type": "markdown",
   "metadata": {
    "deletable": false,
    "editable": false,
    "nbgrader": {
     "cell_type": "markdown",
     "checksum": "862c4f0b33536afbbfe2f4069ef92f41",
     "grade": false,
     "grade_id": "cell-5c624b097aed3ade",
     "locked": true,
     "schema_version": 3,
     "solution": false,
     "task": false
    }
   },
   "source": [
    "Check your answer by running the cell below."
   ]
  },
  {
   "cell_type": "code",
   "execution_count": null,
   "metadata": {
    "deletable": false,
    "editable": false,
    "nbgrader": {
     "cell_type": "code",
     "checksum": "21b5ab244af9134b000f68e605871c01",
     "grade": true,
     "grade_id": "cell-6a5445939765ef43",
     "locked": true,
     "points": 0,
     "schema_version": 3,
     "solution": false,
     "task": false
    }
   },
   "outputs": [],
   "source": [
    "answers3.test_13(top_students)"
   ]
  },
  {
   "cell_type": "markdown",
   "metadata": {
    "deletable": false,
    "editable": false,
    "nbgrader": {
     "cell_type": "markdown",
     "checksum": "37f024693a4ab63dee95f3605e9349f0",
     "grade": false,
     "grade_id": "cell-1fe5f4c676dc4ae5",
     "locked": true,
     "schema_version": 3,
     "solution": false,
     "task": false
    }
   },
   "source": [
    "## Pivot\n",
    "\n",
    "Read about [pivot tables](https://jakevdp.github.io/PythonDataScienceHandbook/03.09-pivot-tables.html)."
   ]
  },
  {
   "cell_type": "markdown",
   "metadata": {},
   "source": [
    "### Exercise 14\n",
    "\n",
    "Based on the `grades` DataFrame from previous exercises. Create a pivot table called `pivot_grades` that has the student names as rows and the course names as columns. The values in the table should be the grades of the corresponding combination of student and course. When the students only got a grade for one of the two courses, `pivot_table` should autmatically assign the value `NaN`. This is ok, you can leave this."
   ]
  },
  {
   "cell_type": "code",
   "execution_count": null,
   "metadata": {
    "deletable": false,
    "nbgrader": {
     "cell_type": "code",
     "checksum": "b7ef7cc16ca1b1350060b3906062fd0d",
     "grade": false,
     "grade_id": "cell-9c76e2d7a9ba1153",
     "locked": false,
     "schema_version": 3,
     "solution": true,
     "task": false
    }
   },
   "outputs": [],
   "source": [
    "# Your code here"
   ]
  },
  {
   "cell_type": "markdown",
   "metadata": {
    "deletable": false,
    "editable": false,
    "nbgrader": {
     "cell_type": "markdown",
     "checksum": "11f6d37f17c5ef8a06747b5361028bd8",
     "grade": false,
     "grade_id": "cell-b4c23c896f3d39cf",
     "locked": true,
     "schema_version": 3,
     "solution": false,
     "task": false
    }
   },
   "source": [
    "Check your answer by running the cell below."
   ]
  },
  {
   "cell_type": "code",
   "execution_count": null,
   "metadata": {
    "deletable": false,
    "editable": false,
    "nbgrader": {
     "cell_type": "code",
     "checksum": "f7fe5e0d841a10b35dacc55f71ef379b",
     "grade": true,
     "grade_id": "cell-cce3d5dbce90f46c",
     "locked": true,
     "points": 0,
     "schema_version": 3,
     "solution": false,
     "task": false
    }
   },
   "outputs": [],
   "source": [
    "answers3.test_14(pivot_grades)"
   ]
  },
  {
   "cell_type": "markdown",
   "metadata": {
    "deletable": false,
    "editable": false,
    "nbgrader": {
     "cell_type": "markdown",
     "checksum": "e8a9132881cfd52fc252cc3412aff145",
     "grade": false,
     "grade_id": "cell-0cfffb185b982602",
     "locked": true,
     "schema_version": 3,
     "solution": false,
     "task": false
    }
   },
   "source": [
    "## Explode\n",
    "\n",
    "Read about [exploding DataFrames](https://pandas.pydata.org/docs/reference/api/pandas.DataFrame.explode.html).\n",
    "\n",
    "### Exercise 15\n",
    "\n",
    "Create an unnested version of the `movies` DataFrame below. So the result should look like this:\n",
    "\n",
    "                          movie                actors\n",
    "    0            Hababam Sinifi           Kemal Sunal\n",
    "    0            Hababam Sinifi           Münir Özkul\n",
    "    0            Hababam Sinifi        Halit Akçatepe\n",
    "    0            Hababam Sinifi            Tarik Akan\n",
    "    1  The Shawshank Redemption           Tim Robbins\n",
    "    1  The Shawshank Redemption        Morgan Freeman\n",
    "    1  The Shawshank Redemption            Bob Gunton\n",
    "    1  The Shawshank Redemption        William Sadler\n",
    "    2                  Aynabaji    Chanchal Chowdhury\n",
    "    2                  Aynabaji  Masuma Rahman Nabila\n",
    "    2                  Aynabaji    Bijori Barkatullah\n",
    "    2                  Aynabaji          Partha Barua\n",
    "    3             The Godfather         Marlon Brando\n",
    "    3             The Godfather             Al Pacino\n",
    "    3             The Godfather            James Caan\n",
    "    3             The Godfather          Diane Keaton\n",
    "    \n",
    "Store the result in `exploded_actors`"
   ]
  },
  {
   "cell_type": "code",
   "execution_count": null,
   "metadata": {
    "deletable": false,
    "nbgrader": {
     "cell_type": "code",
     "checksum": "695fba5590eb9c1671957f9c3de426c7",
     "grade": false,
     "grade_id": "cell-381ec17e0a711b33",
     "locked": false,
     "schema_version": 3,
     "solution": true,
     "task": false
    }
   },
   "outputs": [],
   "source": [
    "movies = pd.DataFrame([[\"Hababam Sinifi\",\n",
    "                           [\"Kemal Sunal\", \"Münir Özkul\", \"Halit Akçatepe\", \"Tarik Akan\"]],\n",
    "                      [\"The Shawshank Redemption\",\n",
    "                           [\"Tim Robbins\", \"Morgan Freeman\", \"Bob Gunton\", \"William Sadler\"]],\n",
    "                      [\"Aynabaji\", \n",
    "                           [\"Chanchal Chowdhury\", \"Masuma Rahman Nabila\", \"Bijori Barkatullah\", \"Partha Barua\"]],\n",
    "                      [\"The Godfather\",\n",
    "                           [\"Marlon Brando\", \"Al Pacino\", \"James Caan\", \"Diane Keaton\"]]],\n",
    "                     columns = [\"movie\", \"actors\"])\n",
    "# Your code here"
   ]
  },
  {
   "cell_type": "markdown",
   "metadata": {
    "deletable": false,
    "editable": false,
    "nbgrader": {
     "cell_type": "markdown",
     "checksum": "74fdf8c7ea647159f89fb3487709f2b4",
     "grade": false,
     "grade_id": "cell-c40fffa18222a6e6",
     "locked": true,
     "schema_version": 3,
     "solution": false,
     "task": false
    }
   },
   "source": [
    "Check your answer by running the cell below."
   ]
  },
  {
   "cell_type": "code",
   "execution_count": null,
   "metadata": {
    "deletable": false,
    "editable": false,
    "nbgrader": {
     "cell_type": "code",
     "checksum": "4d5e5a15681ca6380ae60e0c92a3a6ed",
     "grade": true,
     "grade_id": "cell-05648167700af824",
     "locked": true,
     "points": 0,
     "schema_version": 3,
     "solution": false,
     "task": false
    }
   },
   "outputs": [],
   "source": [
    "answers3.test15(exploded_actors)"
   ]
  },
  {
   "cell_type": "markdown",
   "metadata": {
    "deletable": false,
    "editable": false,
    "nbgrader": {
     "cell_type": "markdown",
     "checksum": "75045a9cec0003a669b828504b684ece",
     "grade": false,
     "grade_id": "cell-0a03d88a33cb49b3",
     "locked": true,
     "schema_version": 3,
     "solution": false,
     "task": false
    }
   },
   "source": [
    "## Reading and writing data \n",
    "\n",
    "Look at how you can [store data as a csv file](https://pandas.pydata.org/docs/reference/api/pandas.DataFrame.to_csv.html).\n",
    "Look at how you can [read the data back](https://pandas.pydata.org/pandas-docs/stable/reference/api/pandas.read_csv.html)."
   ]
  },
  {
   "cell_type": "markdown",
   "metadata": {
    "deletable": false,
    "editable": false,
    "nbgrader": {
     "cell_type": "markdown",
     "checksum": "4050314bd45badc9b80b5df119e3e832",
     "grade": false,
     "grade_id": "cell-6a407ebaa66791d7",
     "locked": true,
     "schema_version": 3,
     "solution": false,
     "task": false
    }
   },
   "source": [
    "### Exercise 16\n",
    "\n",
    "As a final challenge try to see if you can combine the pandas methods `read_csv`, `to_csv`, `map`, `explode`, `sort_values`, `groupby` and `head` for a more complex data transformation.\n",
    "\n",
    "The file `data/recipes.csv` contains a few recipes with their lists of ingredients. The recipes were rated on a scale from 1 to 5 by the users of a food website. The file also contains the average rating of the recipes. The contents:\n",
    "\n",
    "    recipe_name,rating,ingredients\n",
    "    Caprese Salad,4.5,tomato;olive oil;basil;mozzerella\n",
    "    Lasagna,4.8,beef;pork;bacon;onion;celery;carrot;wine;tomato\n",
    "    Beef Bourguignon,4.3,beef;bacon;onion;carrot;celery;flour;garlic;wine\n",
    "    Hamburger,3.8,beef;bacon;letuce;bread;onion;mayo;ketchup;pickle\n",
    "    Lentil Burger,4.0,lemon;lentils;yogurt;garlic;mushrooms;miso;parika;flour;bread;pickles\n",
    "\n",
    "As you can see, the first column is the name, the second column contains the average rating and the third column contains all the ingredients (separated by a semicolon `;`)\n",
    "\n",
    "We want to know for each ingredient, what the **top two recipes** are that contain that ingredient. So, the two recipes with the highest rating containing that ingredient. For example, the top two recipes for *bacon* are *Lasagna* and *Beef Bourguignon*. (*Hamburger* also contains *bacon*, but it's rating is lower than the other two recipes, so we ignore that one.)\n",
    "\n",
    "Write a piece of code that reads the file `data/recipes.csv`, does all the required transformations and produces a file `ingredients.csv` into the `data` folder, containing the information we want. A fragment of the contents of the output file you should produce is shown here:\n",
    "\n",
    "    ingredients,recipe_name\n",
    "    bacon,Lasagna\n",
    "    bacon,Beef Bourguignon\n",
    "    basil,Caprese Salad\n",
    "    beef,Lasagna\n",
    "    beef,Beef Bourguignon\n",
    "    bread,Hamburger\n",
    "    bread,Lentil Burger\n",
    "    carrot,Lasagna\n",
    "    carrot,Beef Bourguignon\n",
    "    ...\n",
    "\n",
    "As you can see, the first two entries are the top two recipes for *bacon*. After that we see only one entry for *basil*, because *basil* occurs in only one recipe. This is okay: If an ingredient only occurs in one recipe, the output should only contain that entry.\n",
    "\n",
    "The output should be sorted by the name of the ingredient."
   ]
  },
  {
   "cell_type": "code",
   "execution_count": null,
   "metadata": {
    "deletable": false,
    "nbgrader": {
     "cell_type": "code",
     "checksum": "3c26a9b6e9155161f6cb74ed46df5839",
     "grade": false,
     "grade_id": "cell-b65dcbf05342a0cc",
     "locked": false,
     "schema_version": 3,
     "solution": true,
     "task": false
    }
   },
   "outputs": [],
   "source": [
    "recipes = pd.read_csv('data/recipes.csv')\n",
    "\n",
    "# Your code here"
   ]
  },
  {
   "cell_type": "markdown",
   "metadata": {},
   "source": [
    "Check your answer by running the cell below."
   ]
  },
  {
   "cell_type": "code",
   "execution_count": null,
   "metadata": {
    "deletable": false,
    "editable": false,
    "nbgrader": {
     "cell_type": "code",
     "checksum": "d5cd235a415c99fd230a0255a048d750",
     "grade": true,
     "grade_id": "cell-74bdfc579cbc9fa0",
     "locked": true,
     "points": 0,
     "schema_version": 3,
     "solution": false,
     "task": false
    }
   },
   "outputs": [],
   "source": [
    "answers3.test_16()"
   ]
  }
 ],
 "metadata": {
  "interpreter": {
   "hash": "aee8b7b246df8f9039afb4144a1f6fd8d2ca17a180786b69acc140d282b71a49"
  },
  "kernelspec": {
   "display_name": "Python 3.9.7 64-bit",
   "name": "python3"
  },
  "language_info": {
   "codemirror_mode": {
    "name": "ipython",
    "version": 3
   },
   "file_extension": ".py",
   "mimetype": "text/x-python",
   "name": "python",
   "nbconvert_exporter": "python",
   "pygments_lexer": "ipython3",
   "version": "3.10.6"
  }
 },
 "nbformat": 4,
 "nbformat_minor": 2
}
