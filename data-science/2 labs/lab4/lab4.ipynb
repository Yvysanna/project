{
 "cells": [
  {
   "cell_type": "markdown",
   "metadata": {},
   "source": [
    "# Lab 4: Matplotlib\n",
    "\n",
    "In this Notebook, we will practice with visualizing data using the package Matplotlib. Matplotlib is a graphical plotting library for Python (and NumPy).\n",
    "\n",
    "For the exercises in this notebook, we will be relying on the following sources:\n",
    "- Chapter 4 from the [Python Data Science Handbook](https://jakevdp.github.io/PythonDataScienceHandbook/)\n",
    "- The official Matplotlib documentation: [Matplotlib Documentation](https://matplotlib.org)\n",
    "\n",
    "If you haven't already, start with installing Matplotlib by entering:\n",
    "\n",
    "`pip3 install matplotlib`"
   ]
  },
  {
   "cell_type": "code",
   "execution_count": null,
   "metadata": {},
   "outputs": [],
   "source": [
    "# Import Matplotlib and the other libraries we need\n",
    "import matplotlib.pyplot as plt\n",
    "import pandas as pd\n",
    "import numpy as np"
   ]
  },
  {
   "cell_type": "code",
   "execution_count": null,
   "metadata": {},
   "outputs": [],
   "source": [
    "# Prepare some sample data\n",
    "np.random.seed(42) \n",
    "\n",
    "df = pd.DataFrame(data={'a':np.random.randint(1, 100, 25),\n",
    "                        'b':np.random.randint(1, 100, 25),\n",
    "                        'c':np.random.randint(1, 100, 25)})\n",
    "df.head()"
   ]
  },
  {
   "cell_type": "markdown",
   "metadata": {},
   "source": [
    "## Figures and Axes\n",
    "Creating plots with Matplotlib begins with creating a **figure** and **axes**. \n",
    "\n",
    "A figure refers to the container for the graph, you can think of them as the frame for a photo. The axes are used for the actual (sub)plots, in the analogy of the photo frame these are the photos. These axes have two axis: the x-axis and y-axis. Let's look at an example."
   ]
  },
  {
   "cell_type": "code",
   "execution_count": null,
   "metadata": {},
   "outputs": [],
   "source": [
    "# Create container with 2 rows with each 2 axes \n",
    "fig, ax = plt.subplots(2, 2, figsize=(15, 8))\n",
    "\n",
    "# The plots in the first row (left, right)\n",
    "ax[0][0].plot(df.a)\n",
    "ax[0][1].plot(df.b, color='orange')\n",
    "\n",
    "# The plot in the second row (left)\n",
    "ax[1][0].plot(df.c, color='green')\n",
    "\n",
    "# The plot in the second row (right)\n",
    "ax[1][1].plot(df.a)\n",
    "ax[1][1].plot(df.b)\n",
    "ax[1][1].plot(df.c)\n",
    "\n",
    "plt.show()"
   ]
  },
  {
   "cell_type": "markdown",
   "metadata": {},
   "source": [
    "### Exercise 1\n",
    "\n",
    "Create a figure with 3 vertical axes, add line plots that describe the differences between the columns in `df` (so a - b, b - c, a - c).\n"
   ]
  },
  {
   "cell_type": "code",
   "execution_count": null,
   "metadata": {},
   "outputs": [],
   "source": [
    "# Your code here"
   ]
  },
  {
   "cell_type": "markdown",
   "metadata": {},
   "source": [
    "Apart from lineplots, Matplotlib supports many type of plots i.e., bar graphs, pie charts, box plots, histograms, scatter plots and many more."
   ]
  },
  {
   "cell_type": "code",
   "execution_count": null,
   "metadata": {},
   "outputs": [],
   "source": [
    "# Creates a bar graph\n",
    "fig, ax = plt.subplots(1,1, figsize=(15, 8))\n",
    "\n",
    "ax.bar(x=np.arange(len(df)), height=df['a'])\n",
    "\n",
    "plt.show()"
   ]
  },
  {
   "cell_type": "markdown",
   "metadata": {},
   "source": [
    "### Exercise 2\n",
    "\n",
    "Create a figure with three subplots that are aligned vertically. Next, create a bar graph for `a` and `b` on the first two plots, but at the last one draw both `a` and `b`, but put `b` on top of `a`."
   ]
  },
  {
   "cell_type": "code",
   "execution_count": null,
   "metadata": {},
   "outputs": [],
   "source": [
    "# Your code here"
   ]
  },
  {
   "cell_type": "markdown",
   "metadata": {},
   "source": [
    "We can add labels to our figure as follows:"
   ]
  },
  {
   "cell_type": "code",
   "execution_count": null,
   "metadata": {},
   "outputs": [],
   "source": [
    "fig, ax = plt.subplots(figsize=(15, 8))\n",
    "\n",
    "ax.plot(df.a, color='darkgreen')\n",
    "ax.set_title('This is the <Title>')\n",
    "ax.set_ylabel('This is the <Y Axis>')\n",
    "ax.set_xlabel('This is the <X Axis>')\n"
   ]
  },
  {
   "cell_type": "markdown",
   "metadata": {},
   "source": [
    "In the next few cells we will demonstrate some other types of charts that can be created with Matplotlib."
   ]
  },
  {
   "cell_type": "code",
   "execution_count": null,
   "metadata": {},
   "outputs": [],
   "source": [
    "fig, ax = plt.subplots(figsize=(15, 8))\n",
    "\n",
    "x = np.linspace(0, 10, 30)\n",
    "y = np.sin(x)\n",
    "\n",
    "ax.plot(x, y, 'o', color='black');"
   ]
  },
  {
   "cell_type": "code",
   "execution_count": null,
   "metadata": {},
   "outputs": [],
   "source": [
    "fig, ax = plt.subplots(figsize=(15, 8))\n",
    "\n",
    "x = np.linspace(0, 10, 50)\n",
    "dy = 0.8\n",
    "y = np.sin(x) + dy * np.random.randn(50)\n",
    "\n",
    "ax.errorbar(x, y, yerr=dy, fmt='o', color='black',\n",
    "             ecolor='lightgray', elinewidth=3, capsize=0)\n",
    "\n",
    "plt.show()"
   ]
  },
  {
   "cell_type": "code",
   "execution_count": null,
   "metadata": {},
   "outputs": [],
   "source": [
    "ax = plt.subplot()\n",
    "\n",
    "data = np.random.randn(1000)\n",
    "\n",
    "ax.hist(data)\n",
    "\n",
    "plt.show()"
   ]
  },
  {
   "cell_type": "code",
   "execution_count": null,
   "metadata": {},
   "outputs": [],
   "source": [
    "ax = plt.subplot()\n",
    "\n",
    "mean = [0, 0]\n",
    "cov = [[1, 1], [1, 2]]\n",
    "x, y = np.random.multivariate_normal(mean, cov, 10000).T\n",
    "\n",
    "plot2d = ax.hist2d(x, y, bins=30, cmap='Blues')\n",
    "\n",
    "plt.show()"
   ]
  }
 ],
 "metadata": {
  "kernelspec": {
   "display_name": "Python 3.10.6 64-bit",
   "language": "python",
   "name": "python3"
  },
  "language_info": {
   "codemirror_mode": {
    "name": "ipython",
    "version": 3
   },
   "file_extension": ".py",
   "mimetype": "text/x-python",
   "name": "python",
   "nbconvert_exporter": "python",
   "pygments_lexer": "ipython3",
   "version": "3.10.6"
  },
  "orig_nbformat": 4,
  "vscode": {
   "interpreter": {
    "hash": "aee8b7b246df8f9039afb4144a1f6fd8d2ca17a180786b69acc140d282b71a49"
   }
  }
 },
 "nbformat": 4,
 "nbformat_minor": 2
}
