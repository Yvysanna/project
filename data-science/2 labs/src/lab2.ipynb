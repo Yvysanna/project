{
 "cells": [
  {
   "attachments": {},
   "cell_type": "markdown",
   "metadata": {},
   "source": [
    "## Lab 2: NumPy\n",
    "We have seen previously that a list in Python can store variables referring to any type of object. This brings flexibility but introduces some computational ineficiency. Each item in the list needs to be a complete object and operations within a list always need to check the type of objects they are applied to. \n",
    "\n",
    "The **NumPy** library provides an efficient way to store and manipulate multi-dimensional numerical arrays. The arrays (*ndarray*) can only contain numerical values, from the same type. We lose flexibility but gain efficiency in storing and manipulating data. A lot of projects in Data Science involve manipulating numerical values, so it is convinient to master a library intirely dedicated to such data type. \n",
    "\n",
    "Some further advantages of NumPy are:\n",
    "\n",
    "* NumPy's *ndarray* structure  allows efficient storage and manipulation of vectors, matrices, and higher-dimensional datasets.\n",
    "* It provides a readable and efficient syntax for operating on this data, from simple element-wise arithmetic to more complicated linear algebraic operations.\n",
    "\n",
    "To use the functionality provided by the NumPy library we need first to have it installed, we can install it by entering `pip3 install numpy` in your terminal. \n",
    "\n",
    "The line in the cell below `import numpy as np` allows to import NumPy and to create a shorter alias for its namespace. By convention NumPy is imported under the alias `np`. We can then use the NumPy types and methods using the prefix `np`.\n",
    "\n",
    "This Notebook follows Chapter 2 of the [*Python Data Science Handbook*](https://jakevdp.github.io/PythonDataScienceHandbook/). This reference is expected to be consulted before completing the exercises."
   ]
  },
  {
   "cell_type": "code",
   "execution_count": null,
   "metadata": {},
   "outputs": [],
   "source": [
    "import numpy as np"
   ]
  },
  {
   "cell_type": "markdown",
   "metadata": {},
   "source": [
    "### Creating arrays\n",
    "\n",
    "There are different ways to create NumPy arrays:"
   ]
  },
  {
   "cell_type": "code",
   "execution_count": null,
   "metadata": {},
   "outputs": [],
   "source": [
    "# We can create a NumPy array from a Python list\n",
    "list_of_numbers = [10, 11, 12, 13, 14, 15, 16, 17, 18]\n",
    "np_array = np.array(list_of_numbers)\n",
    "np_array"
   ]
  },
  {
   "cell_type": "code",
   "execution_count": null,
   "metadata": {},
   "outputs": [],
   "source": [
    "# Or with the NumPy method np.arange\n",
    "another_np_array = np.arange(10, 19)\n",
    "another_np_array"
   ]
  },
  {
   "cell_type": "code",
   "execution_count": null,
   "metadata": {},
   "outputs": [],
   "source": [
    "# Or by creating an array of some size and fill it with ones \n",
    "another_numpy_array = np.ones(7)\n",
    "another_numpy_array"
   ]
  },
  {
   "cell_type": "code",
   "execution_count": null,
   "metadata": {},
   "outputs": [],
   "source": [
    "# Or fill it with zeros\n",
    "another_numpy_array = np.zeros((2, 2))\n",
    "another_numpy_array"
   ]
  },
  {
   "cell_type": "markdown",
   "metadata": {},
   "source": [
    "### Exercise 1\n",
    "\n",
    "Without using a loop, create an NumPy array with only even numbers between 10 and 20 (inclusive).\n",
    "\n",
    "*Expected output:* \n",
    "\n",
    "`array([10, 12, 14, 16, 18, 20])`"
   ]
  },
  {
   "cell_type": "code",
   "execution_count": null,
   "metadata": {},
   "outputs": [],
   "source": [
    "# Your code here"
   ]
  },
  {
   "cell_type": "markdown",
   "metadata": {},
   "source": [
    "### Indexing, slicing\n",
    "\n",
    "Basic array manipulations include indexing and slicing. \n",
    "- Indexing `np.array` refers to getting and setting the value of individual array elements and works similarly as indexing in lists.\n",
    "- Slicing describes the array manipulation of getting and setting smaller subarrays within a larger array."
   ]
  },
  {
   "cell_type": "code",
   "execution_count": null,
   "metadata": {},
   "outputs": [],
   "source": [
    "another_np_array = np.array([20, 21, 22, 23, 24, 25, 26, 27, 28, 29])\n",
    "another_np_array"
   ]
  },
  {
   "cell_type": "code",
   "execution_count": null,
   "metadata": {},
   "outputs": [],
   "source": [
    "# Indexing\n",
    "another_np_array[5]"
   ]
  },
  {
   "cell_type": "code",
   "execution_count": null,
   "metadata": {},
   "outputs": [],
   "source": [
    "# Slicing example 1\n",
    "another_np_array[3:]"
   ]
  },
  {
   "cell_type": "code",
   "execution_count": null,
   "metadata": {},
   "outputs": [],
   "source": [
    "# Slicing example 2\n",
    "another_np_array[:-2]"
   ]
  },
  {
   "cell_type": "markdown",
   "metadata": {},
   "source": [
    "### Exercise 2\n",
    "\n",
    "Select only values between the \"4th from last\" to the \"2nd from last\" entries of array: `another_np_array.`\n",
    "\n",
    "*Expected output:*\n",
    "\n",
    "`[26 27]`"
   ]
  },
  {
   "cell_type": "code",
   "execution_count": null,
   "metadata": {},
   "outputs": [],
   "source": [
    "# Your code here"
   ]
  },
  {
   "attachments": {},
   "cell_type": "markdown",
   "metadata": {},
   "source": [
    "### Exercise 3\n",
    "\n",
    "Select the numbers that are divisible by 3.\n",
    "\n",
    "*Expected output:*\n",
    "\n",
    "`[21 24 27]`"
   ]
  },
  {
   "cell_type": "code",
   "execution_count": null,
   "metadata": {},
   "outputs": [],
   "source": [
    "# Your code here"
   ]
  },
  {
   "cell_type": "markdown",
   "metadata": {},
   "source": [
    "### 2D arrays\n",
    "\n",
    "We can also create higher dimensional arrays."
   ]
  },
  {
   "cell_type": "code",
   "execution_count": null,
   "metadata": {},
   "outputs": [],
   "source": [
    "np_2d_array = np.array([[11, 12], [13, 14]])\n",
    "np_2d_array"
   ]
  },
  {
   "cell_type": "code",
   "execution_count": null,
   "metadata": {},
   "outputs": [],
   "source": [
    "np_2d_array[1, 0]"
   ]
  },
  {
   "cell_type": "code",
   "execution_count": null,
   "metadata": {},
   "outputs": [],
   "source": [
    "np_2d_array[:, 0]"
   ]
  },
  {
   "cell_type": "markdown",
   "metadata": {},
   "source": [
    "### Exercise 4\n",
    "\n",
    "Can you switch the [row, column] indices on this array?\n",
    "\n",
    "Expected output:\n",
    "\n",
    "```array([[11, 13],[12, 14]])```"
   ]
  },
  {
   "cell_type": "code",
   "execution_count": null,
   "metadata": {},
   "outputs": [],
   "source": [
    "# Your code here"
   ]
  },
  {
   "attachments": {},
   "cell_type": "markdown",
   "metadata": {},
   "source": [
    "**Watch out! Slicing and indexing in NumPy returns a view of the array and not a copy. That means that you can change the original array through the output of slicing/indexing. Example:**"
   ]
  },
  {
   "cell_type": "code",
   "execution_count": null,
   "metadata": {},
   "outputs": [],
   "source": [
    "t = np_2d_array[0, :]\n",
    "t[0] = 1\n",
    "print(np_2d_array)"
   ]
  },
  {
   "cell_type": "markdown",
   "metadata": {},
   "source": [
    "### Reshaping arrays\n",
    "\n",
    "Reshaping operations may include changing the dimensions in the array or combining two arrays."
   ]
  },
  {
   "cell_type": "code",
   "execution_count": null,
   "metadata": {},
   "outputs": [],
   "source": [
    "# Creates array and checks its shape\n",
    "np_digits = np.arange(0, 9)\n",
    "print(np_digits, \"Shape: \", np_digits.shape)"
   ]
  },
  {
   "cell_type": "code",
   "execution_count": null,
   "metadata": {},
   "outputs": [],
   "source": [
    "# Changes 1D array to 3D with reshape\n",
    "np_digits = np_digits.reshape([3, 3])\n",
    "print(np_digits, \"Shape: \", np_digits.shape)"
   ]
  },
  {
   "cell_type": "code",
   "execution_count": null,
   "metadata": {},
   "outputs": [],
   "source": [
    "# Removes dimension, making it 1D\n",
    "np_2d_1d = np_digits.reshape(-1)\n",
    "print(np_2d_1d, \"Shape: \", np_2d_1d.shape)"
   ]
  },
  {
   "cell_type": "code",
   "execution_count": null,
   "metadata": {},
   "outputs": [],
   "source": [
    "# Add dimension \n",
    "numpy_with_extra_dim = np.expand_dims(np_2d_1d, 0)\n",
    "\n",
    "print(numpy_with_extra_dim, \"Shape: \", numpy_with_extra_dim.shape)"
   ]
  },
  {
   "attachments": {},
   "cell_type": "markdown",
   "metadata": {},
   "source": [
    "### Exercise 5\n",
    "\n",
    "How would you stack (i.e., concatenate) a row array with 9 zeros as a second row to the array `numpy_with_extra_dim`?\n",
    "\n",
    "*Expected output:*\n",
    "\n",
    "```\n",
    "array([[0., 1., 2., 3., 4., 5., 6., 7., 8.],\n",
    "       [0., 0., 0., 0., 0., 0., 0., 0., 0.]])\n",
    "```"
   ]
  },
  {
   "cell_type": "code",
   "execution_count": null,
   "metadata": {},
   "outputs": [],
   "source": [
    "# Your code here"
   ]
  },
  {
   "cell_type": "markdown",
   "metadata": {},
   "source": [
    "What happens when we combine arrays of different shapes?"
   ]
  },
  {
   "cell_type": "code",
   "execution_count": null,
   "metadata": {},
   "outputs": [],
   "source": [
    "a = np.array([2.0, 4.0, 6.0])\n",
    "b = np.array([7.0, 8.0, 9.0, 10.0])\n",
    "print(a,\"  \",b)"
   ]
  },
  {
   "cell_type": "code",
   "execution_count": null,
   "metadata": {},
   "outputs": [],
   "source": [
    "a + b\n",
    "# Error? Understand why..."
   ]
  },
  {
   "cell_type": "code",
   "execution_count": null,
   "metadata": {},
   "outputs": [],
   "source": [
    "print(a.reshape(3, 1))\n",
    "a.reshape(3, 1) + b"
   ]
  },
  {
   "attachments": {},
   "cell_type": "markdown",
   "metadata": {},
   "source": [
    "### Arithmetic \n",
    "\n",
    "We can do direct arithmetic or use NumPy operations for performing arithmetic on arrays."
   ]
  },
  {
   "cell_type": "code",
   "execution_count": null,
   "metadata": {},
   "outputs": [],
   "source": [
    "# Creates two array\n",
    "a = np.array([[10, 11], [12, 13]])\n",
    "b = np.array([[-1, 1], [-1, 1]])\n",
    "\n",
    "print(\"a: \\n\", a)\n",
    "print(\"b: \\n\", b)"
   ]
  },
  {
   "cell_type": "code",
   "execution_count": null,
   "metadata": {},
   "outputs": [],
   "source": [
    "# Direct arithmetic\n",
    "print(\"a * b:\\n\", a * b)\n",
    "print(\"a + b:\\n\", a + b)"
   ]
  },
  {
   "cell_type": "code",
   "execution_count": null,
   "metadata": {},
   "outputs": [],
   "source": [
    "# NumPy operation\n",
    "print(\"Matrix multiplication of a and b:\\n\", np.matmul(a, b))"
   ]
  },
  {
   "cell_type": "code",
   "execution_count": null,
   "metadata": {},
   "outputs": [],
   "source": [
    "np.sum(a)"
   ]
  },
  {
   "cell_type": "code",
   "execution_count": null,
   "metadata": {},
   "outputs": [],
   "source": [
    "print(a)\n",
    "print(\"Sum all entries: \", np.sum(a))\n",
    "print(\"Sum along lines/rows: \", np.sum(a, axis=1))\n",
    "print(\"Sum along columns: \", np.sum(a, axis=0))"
   ]
  },
  {
   "attachments": {},
   "cell_type": "markdown",
   "metadata": {},
   "source": [
    "### Exercise 6\n",
    "\n",
    "Consider a random variable *X* that can take any value stored in the ndarray `v`. Each value of `v` will be observed with a probability as defined in the ndarray `p`. Can you define a function that, using NumPy functions, calculates the expected value of *X*?\n",
    "\n",
    "> Tip: https://en.wikipedia.org/wiki/Expected_value\n",
    "\n",
    "Example:\n",
    "```\n",
    "p = np.array([0.1, 0.8, 0.1])\n",
    "v = np.array([1, 2, 3])\n",
    "\n",
    "expected(p, v)\n",
    "> 2.0\n",
    "```"
   ]
  },
  {
   "cell_type": "code",
   "execution_count": null,
   "metadata": {},
   "outputs": [],
   "source": [
    "p = np.array([0.1, 0.8, 0.1])\n",
    "v = np.array([1, 2, 3])"
   ]
  },
  {
   "cell_type": "code",
   "execution_count": null,
   "metadata": {},
   "outputs": [],
   "source": [
    "# Your code here"
   ]
  },
  {
   "cell_type": "markdown",
   "metadata": {},
   "source": [
    "### Random Variables"
   ]
  },
  {
   "cell_type": "code",
   "execution_count": null,
   "metadata": {},
   "outputs": [],
   "source": [
    "print(\"1 Random uniform number:\\n\", np.random.uniform(low=0, high=1))\n",
    "print(\"3 Random uniform numbers:\\n\", np.random.uniform(low=0, high=1, size=3))"
   ]
  },
  {
   "cell_type": "code",
   "execution_count": null,
   "metadata": {},
   "outputs": [],
   "source": [
    "print(\"3 Random normally distributed numbers:\\n\", np.random.normal(loc=0.0, scale=1.0, size=3))"
   ]
  },
  {
   "cell_type": "code",
   "execution_count": null,
   "metadata": {},
   "outputs": [],
   "source": [
    "print(\"3 random Binomially distributed numbers:\\n\", np.random.binomial(n=1, p=0.5, size=3))"
   ]
  },
  {
   "attachments": {},
   "cell_type": "markdown",
   "metadata": {},
   "source": [
    "### Exercise 7\n",
    "\n",
    "Can you get 100 random variables from a Poisson distribution of mean 1?\n",
    "\n",
    "> Tip: https://en.wikipedia.org/wiki/Poisson_distribution\n",
    "\n",
    "Shape of expected solution (naturally, as this is a stochastic function, the entries in the vector you obtain can vary):\n",
    "\n",
    "```\n",
    "array([1, 1, 1, 0, 3, 1, 2, 0, 2, 0, 1, 1, 1, 0, 0, 2, 0, 0, 0, 0, 0, 0,\n",
    "       0, 2, 1, 0, 0, 0, 1, 1, 1, 1, 1, 1, 1, 1, 1, 0, 2, 0, 1, 0, 0, 1,\n",
    "       0, 1, 1, 0, 1, 0, 0, 1, 1, 1, 0, 0, 1, 3, 0, 1, 0, 1, 1, 0, 0, 0,\n",
    "       0, 0, 0, 0, 0, 0, 1, 1, 2, 1, 0, 1, 0, 1, 0, 1, 0, 2, 3, 0, 0, 0,\n",
    "       4, 2, 0, 0, 0, 1, 1, 1, 0, 2, 0, 0])\n",
    "```"
   ]
  },
  {
   "cell_type": "code",
   "execution_count": null,
   "metadata": {},
   "outputs": [],
   "source": [
    "# Your code here"
   ]
  }
 ],
 "metadata": {
  "kernelspec": {
   "display_name": "Python 3.10.6 64-bit",
   "language": "python",
   "name": "python3"
  },
  "language_info": {
   "codemirror_mode": {
    "name": "ipython",
    "version": 3
   },
   "file_extension": ".py",
   "mimetype": "text/x-python",
   "name": "python",
   "nbconvert_exporter": "python",
   "pygments_lexer": "ipython3",
   "version": "3.10.6"
  },
  "orig_nbformat": 4,
  "vscode": {
   "interpreter": {
    "hash": "aee8b7b246df8f9039afb4144a1f6fd8d2ca17a180786b69acc140d282b71a49"
   }
  }
 },
 "nbformat": 4,
 "nbformat_minor": 2
}
